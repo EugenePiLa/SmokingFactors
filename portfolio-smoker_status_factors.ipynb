{
 "cells": [
  {
   "cell_type": "markdown",
   "metadata": {},
   "source": [
    "# U.S. Smoker population"
   ]
  },
  {
   "cell_type": "markdown",
   "metadata": {},
   "source": [
    "**Welcome to my portfolio project.**\n",
    "\n",
    "The goals chosen for this project are to analyze the different correlations to being a smoker or a non-smoker, based on the dataset provided by Codecademy. Thereby, the results will show if different factors are more or less related to smoking, like sex, age, having children and which region we're living in.\n",
    "\n",
    "*This analysis is limited in such that it is calculating correlation and not causation, and even if it was able to do the latter, it would still not be able to analyze whether the factor is an affect or an effect to smoking.*"
   ]
  },
  {
   "cell_type": "markdown",
   "metadata": {},
   "source": [
    "### First, let's import our dataset and store it in lists."
   ]
  },
  {
   "cell_type": "code",
   "execution_count": 366,
   "metadata": {},
   "outputs": [],
   "source": [
    "# Create empty lists to store data from the CSV\n",
    "\n",
    "age = []\n",
    "sex = []\n",
    "children = []\n",
    "smoker = []\n",
    "region = []"
   ]
  },
  {
   "cell_type": "code",
   "execution_count": 376,
   "metadata": {},
   "outputs": [],
   "source": [
    "#Import the dataset\n",
    "import csv\n",
    "\n",
    "with open(\"portfolio-medical-insurance/insurance.csv\", newline=\"\") as insurance:\n",
    "    insurance_file = csv.DictReader(insurance)\n",
    "    \n",
    "    for row in insurance_file:\n",
    "        # Store data from the CSV into lists\n",
    "        age.append(float(row['age']))\n",
    "        sex.append(row['sex'])\n",
    "        bmi.append(float(row['bmi']))\n",
    "        children.append(float(row['children']))\n",
    "        smoker.append(row['smoker'])\n",
    "        region.append(row['region'])\n",
    "        charges.append(float(row['charges']))"
   ]
  },
  {
   "cell_type": "markdown",
   "metadata": {},
   "source": [
    "#### Now, let's calculate the average number of smokers and non-smokers in the dataset."
   ]
  },
  {
   "cell_type": "code",
   "execution_count": 378,
   "metadata": {},
   "outputs": [
    {
     "name": "stdout",
     "output_type": "stream",
     "text": [
      "In our dataset of 2676 people, there are 548 smokers against 2128 non-smokers.\n",
      "On average, there is 20.48% smokers against 79.52% non-smokers.\n"
     ]
    }
   ],
   "source": [
    "# Calculate total and average number of smokers and non-smokers\n",
    "\n",
    "total_smokers = 0\n",
    "\n",
    "for person in smoker:\n",
    "    if person == \"yes\":\n",
    "        total_smokers += 1\n",
    "\n",
    "average_smoker = round(total_smokers / len(smoker) * 100, 2)\n",
    "\n",
    "\n",
    "# Print results\n",
    "print(\"In our dataset of \" + str(len(smoker)) + \" people, there are \" \n",
    "      + str(total_smokers) + \" smokers against \" \n",
    "      + str(len(smoker)-total_smokers) + \" non-smokers.\")\n",
    "\n",
    "print(\"On average, there is \" + str(average_smoker) + \"% smokers against \" + str(100 - average_smoker) + \"% non-smokers.\")"
   ]
  },
  {
   "cell_type": "markdown",
   "metadata": {},
   "source": [
    "\n",
    "#### Now, let's calculate the correlation between smokers and the sex factor.\n",
    "\n"
   ]
  },
  {
   "cell_type": "code",
   "execution_count": 380,
   "metadata": {},
   "outputs": [
    {
     "name": "stdout",
     "output_type": "stream",
     "text": [
      "In our dataset of 2676 people, there are 1352 people labeled as males against 1324 people labeled as females.\n",
      "There is 50.52% males against 49.48% females.\n"
     ]
    }
   ],
   "source": [
    "# Calculate total and average females and males\n",
    "\n",
    "total_male = 0\n",
    "total_female = 0\n",
    "\n",
    "for person in sex:\n",
    "    if person == \"male\":\n",
    "        total_male += 1\n",
    "    if person == \"female\":\n",
    "        total_female += 1\n",
    "\n",
    "average_male = round(total_male / len(sex) * 100, 2)\n",
    "average_female = round(total_female / len(sex) * 100, 2)\n",
    "\n",
    "\n",
    "# Print results\n",
    "print(\"In our dataset of \" + str(len(sex)) + \" people, there are \" \n",
    "      + str(total_male) + \" people labeled as males against \" \n",
    "      + str(total_female) + \" people labeled as females.\")\n",
    "\n",
    "print(\"There is \" + str(average_male) + \"% males against \" + str(average_female) + \"% females.\")"
   ]
  },
  {
   "cell_type": "code",
   "execution_count": 382,
   "metadata": {},
   "outputs": [
    {
     "name": "stdout",
     "output_type": "stream",
     "text": [
      "Males are on average 23.52% smokers, against 76.48% non-smokers.\n",
      "Females are on average 17.37% smokers, against 82.63% non-smokers.\n",
      "On average, smokers are 58.03% males, against 41.97% females.\n",
      "We can observe that more than half the smokers are males, therefore there is a some correlation between sex and smoking.\n"
     ]
    }
   ],
   "source": [
    "# Calculate total smokers and non-smokers in each sex\n",
    "\n",
    "total_male_smokers = 0\n",
    "total_male_non_smokers = 0\n",
    "total_female_smokers = 0\n",
    "total_female_non_smokers = 0\n",
    "\n",
    "for i in range(len(smoker)):\n",
    "    if smoker[i] == \"yes\":\n",
    "        if sex[i] == \"male\":\n",
    "            total_male_smokers += 1\n",
    "        if sex[i] == \"female\":\n",
    "            total_female_smokers += 1\n",
    "    if smoker[i] == \"no\":\n",
    "        if sex[i] == \"male\":\n",
    "            total_male_non_smokers += 1\n",
    "        if sex[i] == \"female\":\n",
    "            total_female_non_smokers += 1\n",
    "\n",
    "\n",
    "# Calculate average smokers and non-smokers by sex\n",
    "\n",
    "# How many males are smokers? How many are non-smokers?\n",
    "\n",
    "average_male_smokers = round(total_male_smokers / total_male * 100, 2)\n",
    "average_male_non_smokers = round(total_male_non_smokers / total_male * 100, 2)\n",
    "\n",
    "# How many females are smokers? How many are non-smokers?\n",
    "\n",
    "average_female_smokers = round(total_female_smokers / total_female * 100, 2)\n",
    "average_female_non_smokers = round(total_female_non_smokers / total_female * 100, 2)\n",
    "\n",
    "# How many smokers are males? How many are females?\n",
    "\n",
    "average_smokers_who_are_males = round(total_male_smokers / total_smokers * 100, 2)\n",
    "average_smokers_who_are_females = round(total_female_smokers / total_smokers * 100, 2)\n",
    "\n",
    "\n",
    "# Print results\n",
    "\n",
    "print(\"Males are on average \" + str(average_male_smokers) + \"% smokers, against \" \n",
    "      + str(average_male_non_smokers) + \"% non-smokers.\")\n",
    "\n",
    "print(\"Females are on average \" + str(average_female_smokers) + \"% smokers, against \" \n",
    "      + str(average_female_non_smokers) + \"% non-smokers.\")\n",
    "\n",
    "print(\"On average, smokers are \" + str(average_smokers_who_are_males) + \"% males, against \" \n",
    "      + str(average_smokers_who_are_females) + \"% females.\")\n",
    "\n",
    "print(\"We can observe that more than half the smokers are males, therefore there is a some correlation between sex and smoking.\")"
   ]
  },
  {
   "cell_type": "markdown",
   "metadata": {},
   "source": [
    "#### Now, let's calculate the correlation between smoking and the age factor."
   ]
  },
  {
   "cell_type": "code",
   "execution_count": 384,
   "metadata": {},
   "outputs": [
    {
     "name": "stdout",
     "output_type": "stream",
     "text": [
      "The youngest person in our sample population is 18.0 years old while the oldest person is 64.0 years old.\n",
      "The average age or our sample population is 39.21 years old.\n",
      "It is important to note that we don't have a very representative sample in terms of age, since it is limited between 18 and 64 years old.\n"
     ]
    }
   ],
   "source": [
    "# Find youngest and oldest age\n",
    "\n",
    "youngest = 100\n",
    "oldest = 0\n",
    "\n",
    "for i in range(len(age)):\n",
    "    if age[i] < youngest:\n",
    "        youngest = age[i]\n",
    "    if age[i] > oldest:\n",
    "        oldest = age[i]\n",
    "\n",
    "\n",
    "# Calculate average age \n",
    "\n",
    "total_age = 0\n",
    "\n",
    "for person in age:\n",
    "    total_age += person\n",
    "\n",
    "average_age = round(total_age / len(sex), 2)\n",
    "\n",
    "\n",
    "# Print results\n",
    "print(\"The youngest person in our sample population is \" + str(youngest) + \" years old while the oldest person is \" + str(oldest) + \" years old.\")\n",
    "\n",
    "print(\"The average age or our sample population is \" + str(average_age) + \" years old.\")\n",
    "\n",
    "print(\"It is important to note that we don't have a very representative sample in terms of age, since it is limited between 18 and 64 years old.\")"
   ]
  },
  {
   "cell_type": "code",
   "execution_count": 386,
   "metadata": {},
   "outputs": [
    {
     "name": "stdout",
     "output_type": "stream",
     "text": [
      "The average age of smokers is 38.51 years old, which is almost equal to the average age of the sample (39.21 years old).\n",
      "On one hand, if we divide the sample population into age groups, we can see that it doesn't really changes from a group to another. \n",
      "[21.9]% of people below 20 years old are smokers. \n",
      "[20.0]% of people from 20 to 29 years old (inclusive) are smokers. \n",
      "[22.57]% of people from 30 to 39 years old (inclusive) are smokers. \n",
      "[22.22]% of people from 40 to 49 years old (inclusive) are smokers. \n",
      "[15.13]% of people from 50 to 59 years old (inclusive) are smokers. \n",
      "[23.68]% of people from 60 to 69 years old (inclusive) are smokers.\n",
      "Therefore, we can see that the age is not really a factor to consider in smokers.\n"
     ]
    }
   ],
   "source": [
    "# Calculate average age of smokers\n",
    "\n",
    "total_age_of_smokers = 0\n",
    "\n",
    "for i in range(len(age)):\n",
    "    if smoker[i] == \"yes\":\n",
    "        total_age_of_smokers += age[i]\n",
    "    \n",
    "average_age_of_smokers = round(total_age_of_smokers / total_smokers, 2)\n",
    "\n",
    "\n",
    "# Categorize in age groups\n",
    "\n",
    "age_group_dict = {1:0, 2:20, 3:30, 4:40, 5:50, 6:60, 7:70}\n",
    "age_group_total = {\"Below 20\":0, \"20s\":0, \"30s\":0, \"40s\":0, \"50s\":0, \"60s\":0}\n",
    "age_group_smokers = {\"Below 20\":0, \"20s\":0, \"30s\":0, \"40s\":0, \"50s\":0, \"60s\":0}\n",
    "\n",
    "\n",
    "# Calculate total people in each age group and total smokers in each age group\n",
    "\n",
    "for i in range(len(age)):\n",
    "    if age[i] < age_group_dict[2]:\n",
    "        age_group_total[\"Below 20\"] += 1\n",
    "        if smoker[i] == \"yes\":\n",
    "            age_group_smokers[\"Below 20\"] += 1\n",
    "    elif age[i] < age_group_dict[3]:\n",
    "        age_group_total[\"20s\"] += 1\n",
    "        if smoker[i] == \"yes\":\n",
    "            age_group_smokers[\"20s\"] += 1\n",
    "    elif age[i] < age_group_dict[4]:\n",
    "        age_group_total[\"30s\"] += 1\n",
    "        if smoker[i] == \"yes\":\n",
    "            age_group_smokers[\"30s\"] += 1\n",
    "    elif age[i] < age_group_dict[5]:\n",
    "        age_group_total[\"40s\"] += 1\n",
    "        if smoker[i] == \"yes\":\n",
    "            age_group_smokers[\"40s\"] += 1\n",
    "    elif age[i] < age_group_dict[6]:\n",
    "        age_group_total[\"50s\"] += 1\n",
    "        if smoker[i] == \"yes\":\n",
    "            age_group_smokers[\"50s\"] += 1\n",
    "    elif age[i] < age_group_dict[7]:\n",
    "        age_group_total[\"60s\"] += 1\n",
    "        if smoker[i] == \"yes\":\n",
    "            age_group_smokers[\"60s\"] += 1\n",
    "\n",
    "\n",
    "# Calculate what percentage of each age group are smokers\n",
    "\n",
    "average_smokers_age_group = {\"Below 20\":[round(age_group_smokers[\"Below 20\"] / age_group_total[\"Below 20\"] * 100, 2)], \n",
    "                             \"20s\":[round(age_group_smokers[\"20s\"] / age_group_total[\"20s\"] * 100, 2)], \n",
    "                             \"30s\":[round(age_group_smokers[\"30s\"] / age_group_total[\"30s\"] * 100, 2)], \n",
    "                             \"40s\":[round(age_group_smokers[\"40s\"] / age_group_total[\"40s\"] * 100, 2)], \n",
    "                             \"50s\":[round(age_group_smokers[\"50s\"] / age_group_total[\"50s\"] * 100, 2)], \n",
    "                             \"60s\":[round(age_group_smokers[\"60s\"] / age_group_total[\"60s\"] * 100, 2)]}\n",
    "\n",
    "\n",
    "# Print results \n",
    "\n",
    "print(\"The average age of smokers is \" + str(average_age_of_smokers) \n",
    "      + \" years old, which is almost equal to the average age of the sample (\" + str(average_age) +\" years old).\")\n",
    "\n",
    "print(\"On one hand, if we divide the sample population into age groups, we can see that it doesn't really changes from a group to another. \\n\" \n",
    "      + str(average_smokers_age_group[\"Below 20\"]) + \"% of people below 20 years old are smokers. \\n\" \n",
    "      + str(average_smokers_age_group[\"20s\"]) + \"% of people from 20 to 29 years old (inclusive) are smokers. \\n\" \n",
    "      + str(average_smokers_age_group[\"30s\"]) + \"% of people from 30 to 39 years old (inclusive) are smokers. \\n\" \n",
    "      + str(average_smokers_age_group[\"40s\"]) + \"% of people from 40 to 49 years old (inclusive) are smokers. \\n\" \n",
    "      + str(average_smokers_age_group[\"50s\"]) + \"% of people from 50 to 59 years old (inclusive) are smokers. \\n\" \n",
    "      + str(average_smokers_age_group[\"60s\"]) + \"% of people from 60 to 69 years old (inclusive) are smokers.\")\n",
    "\n",
    "print(\"Therefore, we can see that the age is not really a factor to consider in smokers.\")"
   ]
  },
  {
   "cell_type": "markdown",
   "metadata": {},
   "source": [
    "#### Now, let's calculate the correlation between smoking and having children."
   ]
  },
  {
   "cell_type": "code",
   "execution_count": 388,
   "metadata": {},
   "outputs": [
    {
     "name": "stdout",
     "output_type": "stream",
     "text": [
      "In our dataset of 2676 people, there are 1528 who have at least one child against 1148 people who don't.\n",
      "On average, there is 57.1% parents against 42.9% non-parents.\n"
     ]
    }
   ],
   "source": [
    "# Calculate total parents and non-parents\n",
    "\n",
    "total_parents = 0\n",
    "total_non_parents = 0\n",
    "\n",
    "for num in children:\n",
    "    if num == 0:\n",
    "        total_non_parents += 1\n",
    "    else:\n",
    "        total_parents += 1\n",
    "\n",
    "\n",
    "# Calculate percentages of parents and non-parents in the total population\n",
    "\n",
    "average_parents = round(total_parents / len(children) * 100, 2)\n",
    "average_non_parents = round(total_non_parents / len(children) * 100, 2)\n",
    "\n",
    "\n",
    "# Print results\n",
    "\n",
    "print(\"In our dataset of \" + str(len(children)) + \" people, there are \" \n",
    "      + str(total_parents) + \" who have at least one child against \" \n",
    "      + str(total_non_parents) + \" people who don't.\")\n",
    "\n",
    "print(\"On average, there is \" + str(average_parents) + \"% parents against \" + str(average_non_parents) + \"% non-parents.\")"
   ]
  },
  {
   "cell_type": "code",
   "execution_count": 390,
   "metadata": {},
   "outputs": [
    {
     "name": "stdout",
     "output_type": "stream",
     "text": [
      "In our total of 548 smokers, 318 or 58.03% of smokers have at least one child and 230 or 41.97% of smokers don't have any children.\n",
      "In other words, of all parents, 20.81% are smokers and 79.19% are non-smokers.\n",
      "Seeing that those statistics are almost equals to the full sample population, we can conclude that having children is not really a factor to consider in smokers.\n"
     ]
    }
   ],
   "source": [
    "# Calculate total smokers who are also parents\n",
    "\n",
    "total_smokers_and_parents = 0\n",
    "\n",
    "for i in range(len(smoker)):\n",
    "    if smoker[i] == \"yes\" and children[i] > 0:\n",
    "        total_smokers_and_parents += 1\n",
    "\n",
    "\n",
    "# Calculate percentage of parents who are smokers\n",
    "\n",
    "average_parents_who_are_smokers = round(total_smokers_and_parents / total_parents * 100, 2)\n",
    "\n",
    "\n",
    "# Calculate percentage of smokers who are parents\n",
    "\n",
    "average_smokers_who_are_parents = round(total_smokers_and_parents / total_smokers * 100, 2)\n",
    "\n",
    "\n",
    "# Print results\n",
    "\n",
    "print(\"In our total of \" + str(total_smokers) + \" smokers, \" \n",
    "      + str(total_smokers_and_parents) + \" or \" \n",
    "      + str(average_smokers_who_are_parents) + \"% of smokers have at least one child and \" \n",
    "      + str(total_smokers - total_smokers_and_parents) + \" or \" \n",
    "      + str(100 - average_smokers_who_are_parents) + \"% of smokers don't have any children.\")\n",
    "\n",
    "print(\"In other words, of all parents, \" + str(average_parents_who_are_smokers) + \"% are smokers and \" \n",
    "      + str(100 - average_parents_who_are_smokers) + \"% are non-smokers.\")\n",
    "\n",
    "print(\"Seeing that those statistics are almost equals to the full sample population, we can conclude that having children is not really a factor to consider in smokers.\")"
   ]
  },
  {
   "cell_type": "markdown",
   "metadata": {},
   "source": [
    "#### Now, let's calculate the correlation between smoking and which region of the U.S. we're living in"
   ]
  },
  {
   "cell_type": "code",
   "execution_count": 444,
   "metadata": {},
   "outputs": [
    {
     "name": "stdout",
     "output_type": "stream",
     "text": [
      "20.68% of people living in the northeast region of the U.S. are smokers. \n",
      "This is almost equivalent to the average of the full sample population.\n",
      "17.85% of people living in the northwest region of the U.S. are smokers. This is below average.\n",
      "25.0% of people living in the southeast region of the U.S. are smokers. This is above average.\n",
      "17.85% of people living in the southwest region of the U.S. are smokers. This is below average.\n",
      "\n",
      "The notable differences indicates that the regions are related to the smoker status and thus should be considered as a factor.\n"
     ]
    }
   ],
   "source": [
    "# Count total of people and total smokers from each region\n",
    "\n",
    "total_regions = {\"Northeast\":0, \"Northwest\":0, \"Southeast\":0, \"Southwest\":0, \"Else\":0}\n",
    "smokers_regions = {\"Northeast\":0, \"Northwest\":0, \"Southeast\":0, \"Southwest\":0, \"Else\":0}\n",
    "\n",
    "for i in range(len(region)):\n",
    "    if region[i] == \"northeast\":\n",
    "        total_regions[\"Northeast\"] += 1\n",
    "        if smoker[i] == \"yes\":\n",
    "            smokers_regions[\"Northeast\"] += 1\n",
    "    if region[i] == \"northwest\":\n",
    "        total_regions[\"Northwest\"] += 1\n",
    "        if smoker[i] == \"yes\":\n",
    "            smokers_regions[\"Northwest\"] += 1\n",
    "    if region[i] == \"southeast\":\n",
    "        total_regions[\"Southeast\"] += 1\n",
    "        if smoker[i] == \"yes\":\n",
    "            smokers_regions[\"Southeast\"] += 1\n",
    "    if region[i] == \"southwest\":\n",
    "        total_regions[\"Southwest\"] += 1\n",
    "        if smoker[i] == \"yes\":\n",
    "            smokers_regions[\"Southwest\"] += 1\n",
    "\n",
    "            \n",
    "# Calculate percentage of people in each region are smokers\n",
    "\n",
    "average_smokers_regions = {\"Northeast\":round(smokers_regions[\"Northeast\"] / total_regions[\"Northeast\"] * 100, 2), \n",
    "                           \"Northwest\":round(smokers_regions[\"Northwest\"] / total_regions[\"Northwest\"] * 100, 2), \n",
    "                           \"Southeast\":round(smokers_regions[\"Southeast\"] / total_regions[\"Southeast\"] * 100, 2), \n",
    "                           \"Southwest\":round(smokers_regions[\"Southwest\"] / total_regions[\"Southwest\"] * 100, 2)}\n",
    "\n",
    "\n",
    "# Comparison with sample population\n",
    "\n",
    "def comparison(average_region, average_smoker):\n",
    "    if average_smoker - average_region <= 1.5 or average_smoker - average_region >= -1.5:\n",
    "        message = \"This is almost equivalent to the average of the full sample population.\"\n",
    "    if average_smoker - average_region >= 1.5:\n",
    "        message = \"This is below average.\"\n",
    "    if average_smoker - average_region <= -1.5:\n",
    "        message = \"This is above average.\"\n",
    "    return message\n",
    "\n",
    "# Print results\n",
    "\n",
    "print(str(average_smokers_regions[\"Northeast\"]) + \"% of people living in the northeast region of the U.S. are smokers. \\n\" \n",
    "      + comparison(average_smokers_regions[\"Northeast\"], average_smoker) + \"\\n\"\n",
    "      + str(average_smokers_regions[\"Northwest\"]) + \"% of people living in the northwest region of the U.S. are smokers. \" \n",
    "      + comparison(average_smokers_regions[\"Northwest\"], average_smoker) + \"\\n\"\n",
    "      + str(average_smokers_regions[\"Southeast\"]) + \"% of people living in the southeast region of the U.S. are smokers. \"\n",
    "      + comparison(average_smokers_regions[\"Southeast\"], average_smoker) + \"\\n\"\n",
    "      + str(average_smokers_regions[\"Southwest\"]) + \"% of people living in the southwest region of the U.S. are smokers. \" \n",
    "      + comparison(average_smokers_regions[\"Southwest\"], average_smoker))\n",
    "\n",
    "\n",
    "print(\"\\nThe notable differences indicates that the regions are related to the smoker status and thus should be considered as a factor.\")"
   ]
  },
  {
   "cell_type": "markdown",
   "metadata": {},
   "source": [
    "#### Conclusion\n",
    "\n",
    "In conclusion, this project found that though the age and being a parent do not seem to have a correlation with the smoker status, it also found that the sex and the region where we live seem to be related to the smoker status. Indeed, most smokers are males. Furthermore, people living in the West of the U.S are less likely to smoke than the people living in the East. Since our sample is limited, we can't take those information for granted, but it definitely lets us ponder on what further analysis would discover. "
   ]
  }
 ],
 "metadata": {
  "kernelspec": {
   "display_name": "Python 3 (ipykernel)",
   "language": "python",
   "name": "python3"
  },
  "language_info": {
   "codemirror_mode": {
    "name": "ipython",
    "version": 3
   },
   "file_extension": ".py",
   "mimetype": "text/x-python",
   "name": "python",
   "nbconvert_exporter": "python",
   "pygments_lexer": "ipython3",
   "version": "3.12.4"
  }
 },
 "nbformat": 4,
 "nbformat_minor": 4
}
